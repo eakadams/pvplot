{
 "cells": [
  {
   "cell_type": "markdown",
   "metadata": {},
   "source": [
    "This notebook is for testing code used to plot PV slices"
   ]
  },
  {
   "cell_type": "code",
   "execution_count": 12,
   "metadata": {},
   "outputs": [],
   "source": [
    "#import packages\n",
    "import numpy as np\n",
    "from mpl_toolkits.axes_grid1 import ImageGrid\n",
    "from astropy.io import fits\n",
    "import matplotlib.pyplot as plt\n",
    "from astropy import wcs\n",
    "from astropy.visualization.wcsaxes import WCSAxes\n",
    "import astropy.units as u"
   ]
  },
  {
   "cell_type": "markdown",
   "metadata": {},
   "source": [
    "First, try to just make plots for a single source. Then create a function and wrap nicely"
   ]
  },
  {
   "cell_type": "code",
   "execution_count": 2,
   "metadata": {},
   "outputs": [],
   "source": [
    "#define data locations\n",
    "datadir = '/Users/adams/data/shield/slices'\n",
    "agc = '124056'\n"
   ]
  },
  {
   "cell_type": "code",
   "execution_count": 14,
   "metadata": {
    "scrolled": false
   },
   "outputs": [
    {
     "name": "stdout",
     "output_type": "stream",
     "text": [
      "(1, 21, 40)\n",
      "\n",
      "WCS Keywords\n",
      "\n",
      "Number of WCS axes: 2\n",
      "CTYPE : 'OFFSET'  'VRAD'  \n",
      "CRVAL : 0.0  381513.8693646  \n",
      "CRPIX : 20.0  1.0  \n",
      "PC1_1 PC1_2  : 1.0  0.0  \n",
      "PC2_1 PC2_2  : 0.0  1.0  \n",
      "CDELT : 4.000000257984  2493.620314187  \n",
      "NAXIS : 40  21  1\n",
      "40\n",
      "4.000000257984\n"
     ]
    }
   ],
   "source": [
    "#Open a fits file to use the header for axes info\n",
    "#starting with minor\n",
    "f = fits.open('{0}/{1}.min1.fits'.format(datadir,agc))\n",
    "hminor = f[0].header\n",
    "f = fits.open('{0}/{1}.maj.fits'.format(datadir,agc))\n",
    "hmajor = f[0].header\n",
    "data = f[0].data\n",
    "print(data.shape)\n",
    "\n",
    "#print(hminor)\n",
    "\n",
    "w = wcs.WCS(hminor,naxis=2)\n",
    "w.wcs.print_contents()\n",
    "print(w.wcs.name)\n",
    "print(w)\n",
    "\n",
    "print(hminor['NAXIS1'])\n",
    "print(hminor['CDELT1'])\n",
    "\n"
   ]
  },
  {
   "cell_type": "code",
   "execution_count": 18,
   "metadata": {},
   "outputs": [],
   "source": [
    "def get_offset_vals(header,sep=15*u.arcsec,headerunit = u.arcsec, \n",
    "                    naxis='NAXIS1', cdelt='CDELT1'):\n",
    "    \"\"\"\n",
    "    Take a header object and return an array of offset values\n",
    "    Inputs:\n",
    "        header: header object from astropy.fits\n",
    "        sep (float, angular unit): separation for values in an angular unit\n",
    "        headerunit (float, angular unit): Unit for header for offset axis\n",
    "        naxis (str): naxis in header, default='NAXIS1'\n",
    "        cdelt (str): cdelt in header, default='CDELT1'\n",
    "    Outputs:\n",
    "        offset_vals (nparray): Array of offset values (floats)\n",
    "        offsetunit: Unit for separation values\n",
    "    \"\"\"\n",
    "    total_offset = header[naxis] * header[cdelt] * headerunit\n",
    "    print(total_offset)\n",
    "    nticks = np.floor(total_offset / sep)\n",
    "    print(nticks)\n",
    "    #check if odd or not - want odd tick marks\n",
    "    #if even, add 1 tick (since I did floor before)\n",
    "    if nticks % 2 == 0:\n",
    "        nticks = nticks + 1\n",
    "    print(nticks)\n",
    "    #set up array for values\n",
    "    offset_vals = (np.arange(nticks) - np.floor(nticks/2)) * sep.value\n",
    "    offsetunit = sep.unit\n",
    "    return offset_vals,offsetunit\n",
    "        "
   ]
  },
  {
   "cell_type": "code",
   "execution_count": 42,
   "metadata": {},
   "outputs": [],
   "source": [
    "def get_vel_vals(header,sep=5*u.km/u.s,headerunit = u.m / u.s, \n",
    "                    naxis='NAXIS2', cdelt='CDELT2', crval = 'CRVAL2', crpix='CRPIX2'):\n",
    "    \"\"\"\n",
    "    Take a header object and return an array of velocity values\n",
    "    Inputs:\n",
    "        header: header object from astropy.fits\n",
    "        sep (float, vel unit): separation for values in a velocity unit\n",
    "        headerunit (float, vel unit): Unit for header for velocity axis\n",
    "        naxis (str): naxis in header, default='NAXIS2'\n",
    "        cdelt (str): cdelt in header, default='CDELT2'\n",
    "        crval (str): cdelt in header, default='CRVAL2'\n",
    "        crpix (str): crpix in header, default='CRPIX2'\n",
    "    Outputs:\n",
    "        vel_vals (nparray): Array of velocity values (floats)\n",
    "        velunit: Unit for separation values\n",
    "    \"\"\"\n",
    "    total_velocity = header[naxis] * header[cdelt] * headerunit\n",
    "    print(total_velocity)\n",
    "    nticks = np.floor( (total_velocity.to(sep.unit) / sep) )\n",
    "    print(nticks)\n",
    "    #set starting value, go up to nearest sep value\n",
    "    #implicitly assuming crpix is 1. should probably add a check for this\n",
    "    extra_over = ((header[crval]*headerunit).to(sep.unit).value % sep.value)\n",
    "    extra_over = ((header[crval]*headerunit).to(sep.unit) % sep)\n",
    "    startval = (header[crval]*headerunit).to(sep.unit) + (sep - extra_over)\n",
    "    print(startval)\n",
    "    #set up array for values\n",
    "    vel_vals = (np.arange(nticks)) * sep.value + startval.value\n",
    "    velunit = sep.unit\n",
    "    return vel_vals,velunit"
   ]
  },
  {
   "cell_type": "code",
   "execution_count": null,
   "metadata": {},
   "outputs": [],
   "source": [
    "def get_tick_positions(header,offsetvals,velvals):\n",
    "    \"\"\"\n",
    "    Use WCS and header to convert offsetvals, velvals to pixel coordiantes\n",
    "    Inputs:\n",
    "        header: header (astropy.fits)\n",
    "        offsetvals (flt nparry): Array of offset values\n",
    "    \"\"\""
   ]
  },
  {
   "cell_type": "code",
   "execution_count": 44,
   "metadata": {},
   "outputs": [
    {
     "name": "stdout",
     "output_type": "stream",
     "text": [
      "52366.026597927004 m / s\n",
      "10.0\n",
      "385.0 km / s\n",
      "[385. 390. 395. 400. 405. 410. 415. 420. 425. 430.]\n"
     ]
    }
   ],
   "source": [
    "vals, unit = get_vel_vals(hminor)\n",
    "print(vals)"
   ]
  },
  {
   "cell_type": "code",
   "execution_count": 20,
   "metadata": {},
   "outputs": [
    {
     "name": "stdout",
     "output_type": "stream",
     "text": [
      "160.00001011132 arcsec\n",
      "10.0\n",
      "11.0\n",
      "[-75. -60. -45. -30. -15.   0.  15.  30.  45.  60.  75.] arcsec\n"
     ]
    }
   ],
   "source": [
    "vals, unit = get_offset_vals(hmajor)\n",
    "print(vals,unit)"
   ]
  },
  {
   "cell_type": "code",
   "execution_count": 6,
   "metadata": {
    "scrolled": false
   },
   "outputs": [
    {
     "name": "stderr",
     "output_type": "stream",
     "text": [
      "WARNING: FITSFixedWarning: PC01_01 = 1.000000000000E+00 \n",
      "indices in parameterized keywords must not have leading zeroes. [astropy.wcs.wcs]\n",
      "WARNING: FITSFixedWarning: PC02_01 = 0.000000000000E+00 \n",
      "indices in parameterized keywords must not have leading zeroes. [astropy.wcs.wcs]\n",
      "WARNING: FITSFixedWarning: PC03_01 = 0.000000000000E+00 \n",
      "indices in parameterized keywords must not have leading zeroes. [astropy.wcs.wcs]\n",
      "WARNING: FITSFixedWarning: PC01_02 = 0.000000000000E+00 \n",
      "indices in parameterized keywords must not have leading zeroes. [astropy.wcs.wcs]\n",
      "WARNING: FITSFixedWarning: PC02_02 = 1.000000000000E+00 \n",
      "indices in parameterized keywords must not have leading zeroes. [astropy.wcs.wcs]\n",
      "WARNING: FITSFixedWarning: PC03_02 = 0.000000000000E+00 \n",
      "indices in parameterized keywords must not have leading zeroes. [astropy.wcs.wcs]\n",
      "WARNING: FITSFixedWarning: PC01_03 = 0.000000000000E+00 \n",
      "indices in parameterized keywords must not have leading zeroes. [astropy.wcs.wcs]\n",
      "WARNING: FITSFixedWarning: PC02_03 = 0.000000000000E+00 \n",
      "indices in parameterized keywords must not have leading zeroes. [astropy.wcs.wcs]\n",
      "WARNING: FITSFixedWarning: PC03_03 = 1.000000000000E+00 \n",
      "indices in parameterized keywords must not have leading zeroes. [astropy.wcs.wcs]\n",
      "WARNING: FITSFixedWarning: 'obsfix' made the change 'Set OBSGEO-L to     6.604167 from OBSGEO-[XYZ].\n",
      "Set OBSGEO-B to    52.916916 from OBSGEO-[XYZ].\n",
      "Set OBSGEO-H to        1.987 from OBSGEO-[XYZ]'. [astropy.wcs.wcs]\n"
     ]
    },
    {
     "data": {
      "image/png": "[encoded data removed]",
      "text/plain": [
       "<Figure size 576x432 with 16 Axes>"
      ]
     },
     "metadata": {
      "needs_background": "light"
     },
     "output_type": "display_data"
    }
   ],
   "source": [
    "# initialize a figure instance\n",
    "fig = plt.figure(figsize=(8,6))\n",
    "\n",
    "#Open a fits file to use the header for axes info\n",
    "#starting with minor\n",
    "f = fits.open('{0}/{1}.min1.fits'.format(datadir,agc))\n",
    "hminor = f[0].header\n",
    "wcsminor = wcs.WCS(hminor,naxis=2) #ignore 3rd stokes axis\n",
    "# initialize the physical grid for the plot\n",
    "#7 slices\n",
    "gridMinor = ImageGrid(fig, 212, (1,7), #ngrids=7,\n",
    "                      cbar_mode=\"single\", cbar_location='right',\n",
    "                      cbar_size='12%', axes_pad=0.0,\n",
    "                      #axes_class=(WCSAxes, dict(wcs=wcsminor)),\n",
    "                      aspect=False, label_mode='L',share_all=True)\n",
    "\n",
    "f = fits.open('{0}/{1}.maj.fits'.format(datadir,agc))\n",
    "hmajor = f[0].header\n",
    "wcsmajor = wcs.WCS(hmajor,naxis=2)\n",
    "# and its grid and cosmetcs\n",
    "gridMajor = ImageGrid(fig, 211, (1,1), #ngrids=1,\n",
    "                      direction='column', cbar_mode=\"single\",\n",
    "                      cbar_location='right', cbar_size='2%',\n",
    "                      axes_pad=0.0, \n",
    "                      #axes_class=(WCSAxes, dict(wcs=wcsmajor)),\n",
    "                      aspect=False, share_all=True, label_mode='L')\n",
    "\n",
    "\n",
    "#fix intensity range for everything\n",
    "vmin = 0.0\n",
    "vmax = 3\n",
    "vmin=-2\n",
    "vmax=4\n",
    "\n",
    "\n",
    "# loop over all the minor axis slices\n",
    "for i in range(1,8):\n",
    "    # open the file and headers\n",
    "    #print('{0}/{1}.min{2}.fits'.format(datadir,agc,i))\n",
    "    f = fits.open('{0}/{1}.min{2}.fits'.format(datadir,agc,i))\n",
    "    #get rid of third axies, which is first. grr.\n",
    "    #squeeze so don't hve to know where empty axis is\n",
    "    h, d = f[0].header, np.squeeze(f[0].data)\n",
    "    #get wcs\n",
    "    w = wcs.WCS(h,naxis=2)\n",
    "    #print(np.nanmin(d)*1000.,np.nanmax(d)*1000.)\n",
    "    ax = gridMinor[(i-1)]\n",
    "\n",
    "    # define some properties of the image\n",
    "    im = ax.imshow(d * 1000, # mJy/bm\n",
    "                   aspect = 'auto',\n",
    "                   vmin=vmin, vmax=vmax)\n",
    "                   #origin='lower', # put x-axis below plot\n",
    "                   #vmax=vmax, vmin=vmin, # call the scale range set above\n",
    "                   #aspect='auto') \n",
    "                \n",
    "                \n",
    "#plot major axis\n",
    "f = fits.open('{0}/{1}.maj.fits'.format(datadir,agc))\n",
    "h, d = f[0].header, np.squeeze(f[0].data)\n",
    "ax = gridMajor[0]\n",
    "\n",
    "    # define some properties of the image\n",
    "im = ax.imshow(d * 1000, # mJy/bm\n",
    "               origin='lower', # put x-axis below plot\n",
    "               vmax=vmax, vmin=vmin, # call the scale range set above\n",
    "               aspect='auto') "
   ]
  },
  {
   "cell_type": "code",
   "execution_count": null,
   "metadata": {},
   "outputs": [],
   "source": []
  }
 ],
 "metadata": {
  "kernelspec": {
   "display_name": "Python 3",
   "language": "python",
   "name": "python3"
  },
  "language_info": {
   "codemirror_mode": {
    "name": "ipython",
    "version": 3
   },
   "file_extension": ".py",
   "mimetype": "text/x-python",
   "name": "python",
   "nbconvert_exporter": "python",
   "pygments_lexer": "ipython3",
   "version": "3.7.6"
  }
 },
 "nbformat": 4,
 "nbformat_minor": 2
}
